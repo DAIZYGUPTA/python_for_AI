{
 "cells": [
  {
   "cell_type": "code",
   "execution_count": null,
   "id": "b46eaed9-d245-44f2-8265-49610fef4ef8",
   "metadata": {},
   "outputs": [],
   "source": [
    "'''\n",
    "                Python For AI\n",
    "                Assignment 01\n",
    "'''"
   ]
  },
  {
   "cell_type": "markdown",
   "id": "f6e7c913-9a4c-42bc-8a69-27f91d2f98d0",
   "metadata": {},
   "source": [
    "Q1. Write a Python program to determine the largest among three numbers entered by the user."
   ]
  },
  {
   "cell_type": "code",
   "execution_count": 18,
   "id": "623ae572-ae78-432f-ab23-719477e56b8b",
   "metadata": {},
   "outputs": [
    {
     "name": "stdin",
     "output_type": "stream",
     "text": [
      "enter three numbers separated by commas :  200,386,27\n"
     ]
    },
    {
     "name": "stdout",
     "output_type": "stream",
     "text": [
      "user have entered 200 , 386 , 27\n",
      " 386 is greater \n"
     ]
    }
   ],
   "source": [
    "l = input(\"enter three numbers separated by commas : \")\n",
    "num = l.split(',')\n",
    "\n",
    "# convert strings to integers \n",
    "num = [int(i) for i in num]   \n",
    "\n",
    "print(f\"user have entered {num[0]} , {num[1]} , {num[2]}\")\n",
    "\n",
    "# conditions \n",
    "if num[0] > num[1] and num[0] > num[2] :\n",
    "    print(f\" {num[0]} is greater\")\n",
    "elif num[1] > num[0] and num[1] > num[2] :\n",
    "    print(f\" {num[1]} is greater \")\n",
    "elif num[2] > num[0] and num[2] > num[1] :\n",
    "    print(f\" {num[2]} is greater \")\n",
    "          "
   ]
  },
  {
   "cell_type": "code",
   "execution_count": 19,
   "id": "2f226c22-d586-481f-b923-d27657181846",
   "metadata": {},
   "outputs": [
    {
     "name": "stdin",
     "output_type": "stream",
     "text": [
      "enter three numbers separated by commas :  200,386,27\n"
     ]
    },
    {
     "name": "stdout",
     "output_type": "stream",
     "text": [
      "user have entered 200 , 386 , 27\n",
      "the greates number is 386\n"
     ]
    }
   ],
   "source": [
    "# ALTERNATE METHOD OF Q1:\n",
    "\n",
    "l = input(\"enter three numbers separated by commas : \")\n",
    "num = l.split(',')\n",
    "\n",
    "# convert strings to integers \n",
    "num = [int(i) for i in num]   \n",
    "print(f\"user have entered {num[0]} , {num[1]} , {num[2]}\")\n",
    "\n",
    "#using max() function\n",
    "greater_num = max(num)\n",
    "print(f\"the greatest number is {greater_num}\")\n"
   ]
  },
  {
   "cell_type": "markdown",
   "id": "50a40ed0-1f9c-445e-85d9-4716712d1c67",
   "metadata": {},
   "source": [
    "Q2. Write a Python program to check if a given year is a leap year."
   ]
  },
  {
   "cell_type": "code",
   "execution_count": 29,
   "id": "996ff61c-50eb-4c75-a4e8-f5ec40f8f9c9",
   "metadata": {},
   "outputs": [
    {
     "name": "stdin",
     "output_type": "stream",
     "text": [
      "enter the year:  2024\n"
     ]
    },
    {
     "name": "stdout",
     "output_type": "stream",
     "text": [
      " 2024 is a leap year.\n"
     ]
    }
   ],
   "source": [
    "year = int(input(\"enter the year: \"))\n",
    "if (year % 4 == 0 and year % 100 != 0) or (year % 400 ==0):\n",
    "    print(f\" {year} is a leap year.\")\n",
    "else :\n",
    "    print(f\" {year} is not a leap year.\")"
   ]
  },
  {
   "cell_type": "code",
   "execution_count": null,
   "id": "0ecee663-ecd0-4c42-8289-85357cb98c0c",
   "metadata": {},
   "outputs": [],
   "source": [
    "\"\"\"\n",
    "Q3. Write a Python program to print the following pattern:\n",
    "    1\n",
    "    22\n",
    "    333\n",
    "    4444\n",
    "    55555\n",
    "    \n",
    "    \n",
    "\"\"\""
   ]
  },
  {
   "cell_type": "code",
   "execution_count": 42,
   "id": "7bfc7524-a955-4fa9-9637-d2f723636f07",
   "metadata": {},
   "outputs": [
    {
     "name": "stdout",
     "output_type": "stream",
     "text": [
      "1\n",
      "22\n",
      "333\n",
      "4444\n",
      "55555\n"
     ]
    }
   ],
   "source": [
    "for i in range(1,6):\n",
    "    for j in range(i):\n",
    "        print(i,end=\"\")\n",
    "    print()"
   ]
  },
  {
   "cell_type": "code",
   "execution_count": null,
   "id": "4df5b94e-b75b-4a1b-a447-52283374a23b",
   "metadata": {},
   "outputs": [],
   "source": [
    "\"\"\"\n",
    "Q4. Write a Python program to print the following pattern:\n",
    "    *\n",
    "    **\n",
    "    ***\n",
    "    ****\n",
    "    *****\n",
    "    \n",
    "\"\"\""
   ]
  },
  {
   "cell_type": "code",
   "execution_count": 70,
   "id": "c1e7849e-9ed7-4156-9e5a-d4cfcaa1e90b",
   "metadata": {},
   "outputs": [
    {
     "name": "stdout",
     "output_type": "stream",
     "text": [
      "*\n",
      "**\n",
      "***\n",
      "****\n",
      "*****\n"
     ]
    }
   ],
   "source": [
    "for i in range(5):\n",
    "    for j in range(i+1):\n",
    "        print(\"*\",end=\"\")\n",
    "    print()"
   ]
  },
  {
   "cell_type": "code",
   "execution_count": null,
   "id": "e56900e9-494c-4b64-8baa-cbfb5d979ceb",
   "metadata": {},
   "outputs": [],
   "source": [
    "\"\"\"\n",
    "Q5. Write a Python program to print the following pattern:\n",
    "        *\n",
    "       **\n",
    "      ***\n",
    "     ****\n",
    "    *****\n",
    "    \n",
    "\"\"\""
   ]
  },
  {
   "cell_type": "code",
   "execution_count": 74,
   "id": "8a072c7d-14e3-4a45-a978-349a38931002",
   "metadata": {},
   "outputs": [
    {
     "name": "stdout",
     "output_type": "stream",
     "text": [
      "     *\n",
      "    **\n",
      "   ***\n",
      "  ****\n",
      " *****\n"
     ]
    }
   ],
   "source": [
    "for i in range(5):\n",
    "    for j in range(i,5):\n",
    "        print(\" \", end=\"\")\n",
    "    for j in range(i+1):\n",
    "        print(\"*\",end='')\n",
    "    print()"
   ]
  },
  {
   "cell_type": "code",
   "execution_count": null,
   "id": "4d0be75d-08cb-4fd1-94e1-80716b96f45d",
   "metadata": {},
   "outputs": [],
   "source": [
    "\"\"\"\n",
    "#rough work\n",
    "\n",
    "j = 0 1 2 3 4\n",
    "i=0         *\n",
    "i=1       * *\n",
    "i=2     * * *\n",
    "i=3   * * * *\n",
    "i=4 * * * * *\n",
    "\n",
    "\"\"\""
   ]
  },
  {
   "cell_type": "markdown",
   "id": "d5e62758-1358-4da8-9879-289eda61113d",
   "metadata": {},
   "source": [
    "Q6. Write a program that prints the numbers 1 to 100. However, for multiples of 3, print \"Fizz\" instead of the\n",
    "number. For multiples of 5, print \"Buzz\". For numbers that are multiples of both 3 and 5, print \"FizzBuzz\"."
   ]
  },
  {
   "cell_type": "code",
   "execution_count": 81,
   "id": "f9d3c0e2-b019-49c6-b093-b6c48f44fe19",
   "metadata": {},
   "outputs": [
    {
     "name": "stdout",
     "output_type": "stream",
     "text": [
      "1\n",
      "2\n",
      "Fizz\n",
      "4\n",
      "Buzz\n",
      "Fizz\n",
      "7\n",
      "8\n",
      "Fizz\n",
      "Buzz\n",
      "11\n",
      "Fizz\n",
      "13\n",
      "14\n",
      "FizzBuzz\n",
      "16\n",
      "17\n",
      "Fizz\n",
      "19\n",
      "Buzz\n",
      "Fizz\n",
      "22\n",
      "23\n",
      "Fizz\n",
      "Buzz\n",
      "26\n",
      "Fizz\n",
      "28\n",
      "29\n",
      "FizzBuzz\n",
      "31\n",
      "32\n",
      "Fizz\n",
      "34\n",
      "Buzz\n",
      "Fizz\n",
      "37\n",
      "38\n",
      "Fizz\n",
      "Buzz\n",
      "41\n",
      "Fizz\n",
      "43\n",
      "44\n",
      "FizzBuzz\n",
      "46\n",
      "47\n",
      "Fizz\n",
      "49\n",
      "Buzz\n",
      "Fizz\n",
      "52\n",
      "53\n",
      "Fizz\n",
      "Buzz\n",
      "56\n",
      "Fizz\n",
      "58\n",
      "59\n",
      "FizzBuzz\n",
      "61\n",
      "62\n",
      "Fizz\n",
      "64\n",
      "Buzz\n",
      "Fizz\n",
      "67\n",
      "68\n",
      "Fizz\n",
      "Buzz\n",
      "71\n",
      "Fizz\n",
      "73\n",
      "74\n",
      "FizzBuzz\n",
      "76\n",
      "77\n",
      "Fizz\n",
      "79\n",
      "Buzz\n",
      "Fizz\n",
      "82\n",
      "83\n",
      "Fizz\n",
      "Buzz\n",
      "86\n",
      "Fizz\n",
      "88\n",
      "89\n",
      "FizzBuzz\n",
      "91\n",
      "92\n",
      "Fizz\n",
      "94\n",
      "Buzz\n",
      "Fizz\n",
      "97\n",
      "98\n",
      "Fizz\n",
      "Buzz\n"
     ]
    }
   ],
   "source": [
    "for i in range(1,101):\n",
    "    if i%3 == 0 and i%5 == 0 :\n",
    "        print(\"FizzBuzz\")\n",
    "    elif i%3 == 0:\n",
    "        print(\"Fizz\")\n",
    "    elif i%5 == 0:\n",
    "        print(\"Buzz\")\n",
    "    else:\n",
    "        print(i)"
   ]
  },
  {
   "cell_type": "markdown",
   "id": "acf52c02-5846-4095-bcbe-0daa92bdd94b",
   "metadata": {},
   "source": [
    "Q7. Write a Python program to find the sum of all prime numbers up to n."
   ]
  },
  {
   "cell_type": "code",
   "execution_count": 15,
   "id": "58db39a5-5dd5-4780-9019-5e9f18500c13",
   "metadata": {},
   "outputs": [
    {
     "name": "stdin",
     "output_type": "stream",
     "text": [
      "enter number : 10\n"
     ]
    },
    {
     "name": "stdout",
     "output_type": "stream",
     "text": [
      "All prime numbers upto 10 are [2, 3, 5, 7] and their sum is : 17\n"
     ]
    }
   ],
   "source": [
    "import math\n",
    "\n",
    "def check_prime(num):\n",
    "    if num <2:\n",
    "        return False\n",
    "    for i in range(2,(int(num**0.5)+1)):\n",
    "        if num%i == 0  :\n",
    "            return False\n",
    "    return True\n",
    "            \n",
    "n = int(input(\"enter number :\")) \n",
    "\n",
    "sum_prime = [i for i in range(2,n+1) if check_prime(i)]\n",
    "print(f\"All prime numbers upto {n} are {sum_prime} and their sum is : {sum(sum_prime)}\")\n",
    "    "
   ]
  },
  {
   "cell_type": "markdown",
   "id": "5d9ca46a-d156-4bb7-bdc7-5b8b718e018d",
   "metadata": {},
   "source": [
    "Q8. Write a Python program to print the Fibonacci sequence up to n terms. The Fibonacci series is a sequence of numbers where each number is the sum of the two preceding ones, usually starting with 0 and 1."
   ]
  },
  {
   "cell_type": "code",
   "execution_count": 10,
   "id": "46265412-00c6-4d21-8535-bf3932992156",
   "metadata": {},
   "outputs": [
    {
     "name": "stdin",
     "output_type": "stream",
     "text": [
      "enter the number:  20\n"
     ]
    },
    {
     "name": "stdout",
     "output_type": "stream",
     "text": [
      "fibonacci sequence upto 20 : [0, 1, 1, 2, 3, 5, 8, 13, 21, 34, 55, 89, 144, 233, 377, 610, 987, 1597, 2584, 4181]\n"
     ]
    }
   ],
   "source": [
    "def fib(n):\n",
    "    fib_list = [0,1]\n",
    "    if n <= 0:\n",
    "        print(\"enter a positive number.\")\n",
    "    elif n == 1:\n",
    "        print(f\"fib sequence up to {n} : {fib_list[:1]}\")\n",
    "    else:\n",
    "        for _ in range(2,n):\n",
    "            fib_list.append(fib_list[-1] + fib_list[-2])\n",
    "        print(f\"fibonacci sequence upto {n} : {fib_list}\")\n",
    "        \n",
    "n = int(input(\"enter the number: \"))\n",
    "fib(n)"
   ]
  },
  {
   "cell_type": "code",
   "execution_count": null,
   "id": "38b2ac09-5617-4df1-a9b1-da830d21a547",
   "metadata": {},
   "outputs": [],
   "source": [
    "\"\"\"\n",
    "Q9. Write a Python program to print the following pattern:\n",
    "    *\n",
    "   ***\n",
    "  *****\n",
    " *******\n",
    "*********\n",
    "\n",
    "\"\"\""
   ]
  },
  {
   "cell_type": "code",
   "execution_count": 23,
   "id": "4c435570-6410-448b-89f2-bb097f954174",
   "metadata": {},
   "outputs": [
    {
     "name": "stdout",
     "output_type": "stream",
     "text": [
      "     *\n",
      "    ***\n",
      "   *****\n",
      "  *******\n",
      " *********\n"
     ]
    }
   ],
   "source": [
    "for i in range(1,6):\n",
    "    #print spaces\n",
    "    print(\" \" * (6 - i), end=\"\")\n",
    "    \n",
    "    # Print asterisks\n",
    "    print(\"*\" * (2 * i - 1))"
   ]
  },
  {
   "cell_type": "code",
   "execution_count": null,
   "id": "d980c3ab-b7e7-4ce1-a2fc-683af492aa19",
   "metadata": {},
   "outputs": [],
   "source": [
    "\"\"\"\n",
    "Q10. Write a Python program to print the following pattern:\n",
    "    A\n",
    "   BBB\n",
    "  CCCCC\n",
    " DDDDDDD\n",
    "EEEEEEEEE\n",
    "\n",
    "\"\"\""
   ]
  },
  {
   "cell_type": "code",
   "execution_count": 2,
   "id": "14be3c8e-8751-465b-afae-ea0e12a55078",
   "metadata": {},
   "outputs": [
    {
     "name": "stdout",
     "output_type": "stream",
     "text": [
      "     A\n",
      "    BBB\n",
      "   CCCCC\n",
      "  DDDDDDD\n",
      " EEEEEEEEE\n"
     ]
    }
   ],
   "source": [
    "start_char = 65\n",
    "\n",
    "for i in range(1, 6):\n",
    "    # Print spaces\n",
    "    print(\" \" * (6 - i), end=\"\")\n",
    "    \n",
    "    # Print characters\n",
    "    print(chr(start_char) * (2 * i - 1))\n",
    "    \n",
    "    # Increment start_char for the next row\n",
    "    start_char += 1"
   ]
  }
 ],
 "metadata": {
  "kernelspec": {
   "display_name": "Python 3 (ipykernel)",
   "language": "python",
   "name": "python3"
  },
  "language_info": {
   "codemirror_mode": {
    "name": "ipython",
    "version": 3
   },
   "file_extension": ".py",
   "mimetype": "text/x-python",
   "name": "python",
   "nbconvert_exporter": "python",
   "pygments_lexer": "ipython3",
   "version": "3.10.8"
  }
 },
 "nbformat": 4,
 "nbformat_minor": 5
}
